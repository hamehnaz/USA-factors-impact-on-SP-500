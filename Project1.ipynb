{
 "cells": [
  {
   "cell_type": "markdown",
   "id": "60368af3",
   "metadata": {},
   "source": [
    "### This project is Consideration effect of 100 factors on S&P 500 index"
   ]
  },
  {
   "cell_type": "code",
   "execution_count": 2,
   "id": "101d3e54",
   "metadata": {},
   "outputs": [],
   "source": [
    "import numpy as np, pandas as pd"
   ]
  },
  {
   "cell_type": "code",
   "execution_count": 4,
   "id": "1def4a49",
   "metadata": {},
   "outputs": [
    {
     "data": {
      "text/html": [
       "<div>\n",
       "<style scoped>\n",
       "    .dataframe tbody tr th:only-of-type {\n",
       "        vertical-align: middle;\n",
       "    }\n",
       "\n",
       "    .dataframe tbody tr th {\n",
       "        vertical-align: top;\n",
       "    }\n",
       "\n",
       "    .dataframe thead th {\n",
       "        text-align: right;\n",
       "    }\n",
       "</style>\n",
       "<table border=\"1\" class=\"dataframe\">\n",
       "  <thead>\n",
       "    <tr style=\"text-align: right;\">\n",
       "      <th></th>\n",
       "      <th>Date</th>\n",
       "      <th>Value</th>\n",
       "    </tr>\n",
       "  </thead>\n",
       "  <tbody>\n",
       "    <tr>\n",
       "      <th>0</th>\n",
       "      <td>2020-05-31</td>\n",
       "      <td>0.0453</td>\n",
       "    </tr>\n",
       "    <tr>\n",
       "      <th>1</th>\n",
       "      <td>2020-06-30</td>\n",
       "      <td>0.0184</td>\n",
       "    </tr>\n",
       "    <tr>\n",
       "      <th>2</th>\n",
       "      <td>2020-07-31</td>\n",
       "      <td>0.0551</td>\n",
       "    </tr>\n",
       "    <tr>\n",
       "      <th>3</th>\n",
       "      <td>2020-08-31</td>\n",
       "      <td>0.0701</td>\n",
       "    </tr>\n",
       "    <tr>\n",
       "      <th>4</th>\n",
       "      <td>2020-09-30</td>\n",
       "      <td>-0.0392</td>\n",
       "    </tr>\n",
       "  </tbody>\n",
       "</table>\n",
       "</div>"
      ],
      "text/plain": [
       "        Date   Value\n",
       "0 2020-05-31  0.0453\n",
       "1 2020-06-30  0.0184\n",
       "2 2020-07-31  0.0551\n",
       "3 2020-08-31  0.0701\n",
       "4 2020-09-30 -0.0392"
      ]
     },
     "execution_count": 4,
     "metadata": {},
     "output_type": "execute_result"
    }
   ],
   "source": [
    "df_index = pd.read_excel(\"D:Database/sp_index.xlsx\", header=2).iloc[:,1:].sort_index(axis=0 , ascending=False).reset_index().iloc[:,1:]\n",
    "df_index.head()"
   ]
  },
  {
   "cell_type": "code",
   "execution_count": 5,
   "id": "f564f616",
   "metadata": {},
   "outputs": [
    {
     "name": "stdout",
     "output_type": "stream",
     "text": [
      "<class 'pandas.core.frame.DataFrame'>\n",
      "RangeIndex: 50 entries, 0 to 49\n",
      "Data columns (total 2 columns):\n",
      " #   Column  Non-Null Count  Dtype         \n",
      "---  ------  --------------  -----         \n",
      " 0   Date    50 non-null     datetime64[ns]\n",
      " 1   Value   50 non-null     float64       \n",
      "dtypes: datetime64[ns](1), float64(1)\n",
      "memory usage: 932.0 bytes\n"
     ]
    }
   ],
   "source": [
    "df_index.info()"
   ]
  },
  {
   "cell_type": "code",
   "execution_count": 6,
   "id": "bf6af2ce",
   "metadata": {},
   "outputs": [
    {
     "data": {
      "text/plain": [
       "Timestamp('2020-07-31 00:00:00')"
      ]
     },
     "execution_count": 6,
     "metadata": {},
     "output_type": "execute_result"
    }
   ],
   "source": [
    "# Check\n",
    "\n",
    "df_index.loc[2,'Date']"
   ]
  },
  {
   "cell_type": "code",
   "execution_count": 8,
   "id": "99094a70",
   "metadata": {},
   "outputs": [
    {
     "data": {
      "text/html": [
       "<div>\n",
       "<style scoped>\n",
       "    .dataframe tbody tr th:only-of-type {\n",
       "        vertical-align: middle;\n",
       "    }\n",
       "\n",
       "    .dataframe tbody tr th {\n",
       "        vertical-align: top;\n",
       "    }\n",
       "\n",
       "    .dataframe thead th {\n",
       "        text-align: right;\n",
       "    }\n",
       "</style>\n",
       "<table border=\"1\" class=\"dataframe\">\n",
       "  <thead>\n",
       "    <tr style=\"text-align: right;\">\n",
       "      <th></th>\n",
       "      <th>location</th>\n",
       "      <th>name</th>\n",
       "      <th>freq</th>\n",
       "      <th>weighting</th>\n",
       "      <th>direction</th>\n",
       "      <th>n_stocks</th>\n",
       "      <th>n_stocks_min</th>\n",
       "      <th>date</th>\n",
       "      <th>ret</th>\n",
       "    </tr>\n",
       "  </thead>\n",
       "  <tbody>\n",
       "    <tr>\n",
       "      <th>0</th>\n",
       "      <td>usa</td>\n",
       "      <td>age</td>\n",
       "      <td>monthly</td>\n",
       "      <td>ew</td>\n",
       "      <td>-1</td>\n",
       "      <td>502</td>\n",
       "      <td>8</td>\n",
       "      <td>1926-03-31</td>\n",
       "      <td>-0.066167</td>\n",
       "    </tr>\n",
       "    <tr>\n",
       "      <th>1</th>\n",
       "      <td>usa</td>\n",
       "      <td>age</td>\n",
       "      <td>monthly</td>\n",
       "      <td>ew</td>\n",
       "      <td>-1</td>\n",
       "      <td>505</td>\n",
       "      <td>12</td>\n",
       "      <td>1926-04-30</td>\n",
       "      <td>0.010546</td>\n",
       "    </tr>\n",
       "    <tr>\n",
       "      <th>2</th>\n",
       "      <td>usa</td>\n",
       "      <td>age</td>\n",
       "      <td>monthly</td>\n",
       "      <td>ew</td>\n",
       "      <td>-1</td>\n",
       "      <td>510</td>\n",
       "      <td>17</td>\n",
       "      <td>1926-05-31</td>\n",
       "      <td>-0.020292</td>\n",
       "    </tr>\n",
       "    <tr>\n",
       "      <th>3</th>\n",
       "      <td>usa</td>\n",
       "      <td>age</td>\n",
       "      <td>monthly</td>\n",
       "      <td>ew</td>\n",
       "      <td>-1</td>\n",
       "      <td>512</td>\n",
       "      <td>21</td>\n",
       "      <td>1926-06-30</td>\n",
       "      <td>-0.008927</td>\n",
       "    </tr>\n",
       "    <tr>\n",
       "      <th>4</th>\n",
       "      <td>usa</td>\n",
       "      <td>age</td>\n",
       "      <td>monthly</td>\n",
       "      <td>ew</td>\n",
       "      <td>-1</td>\n",
       "      <td>503</td>\n",
       "      <td>23</td>\n",
       "      <td>1926-07-31</td>\n",
       "      <td>0.017724</td>\n",
       "    </tr>\n",
       "    <tr>\n",
       "      <th>...</th>\n",
       "      <td>...</td>\n",
       "      <td>...</td>\n",
       "      <td>...</td>\n",
       "      <td>...</td>\n",
       "      <td>...</td>\n",
       "      <td>...</td>\n",
       "      <td>...</td>\n",
       "      <td>...</td>\n",
       "      <td>...</td>\n",
       "    </tr>\n",
       "    <tr>\n",
       "      <th>142779</th>\n",
       "      <td>usa</td>\n",
       "      <td>zero_trades_252d</td>\n",
       "      <td>monthly</td>\n",
       "      <td>ew</td>\n",
       "      <td>1</td>\n",
       "      <td>3841</td>\n",
       "      <td>1554</td>\n",
       "      <td>2023-08-31</td>\n",
       "      <td>0.067512</td>\n",
       "    </tr>\n",
       "    <tr>\n",
       "      <th>142780</th>\n",
       "      <td>usa</td>\n",
       "      <td>zero_trades_252d</td>\n",
       "      <td>monthly</td>\n",
       "      <td>ew</td>\n",
       "      <td>1</td>\n",
       "      <td>3832</td>\n",
       "      <td>1548</td>\n",
       "      <td>2023-09-30</td>\n",
       "      <td>0.044560</td>\n",
       "    </tr>\n",
       "    <tr>\n",
       "      <th>142781</th>\n",
       "      <td>usa</td>\n",
       "      <td>zero_trades_252d</td>\n",
       "      <td>monthly</td>\n",
       "      <td>ew</td>\n",
       "      <td>1</td>\n",
       "      <td>3833</td>\n",
       "      <td>1547</td>\n",
       "      <td>2023-10-31</td>\n",
       "      <td>0.064437</td>\n",
       "    </tr>\n",
       "    <tr>\n",
       "      <th>142782</th>\n",
       "      <td>usa</td>\n",
       "      <td>zero_trades_252d</td>\n",
       "      <td>monthly</td>\n",
       "      <td>ew</td>\n",
       "      <td>1</td>\n",
       "      <td>3826</td>\n",
       "      <td>1575</td>\n",
       "      <td>2023-11-30</td>\n",
       "      <td>-0.037080</td>\n",
       "    </tr>\n",
       "    <tr>\n",
       "      <th>142783</th>\n",
       "      <td>usa</td>\n",
       "      <td>zero_trades_252d</td>\n",
       "      <td>monthly</td>\n",
       "      <td>ew</td>\n",
       "      <td>1</td>\n",
       "      <td>3807</td>\n",
       "      <td>1566</td>\n",
       "      <td>2023-12-31</td>\n",
       "      <td>-0.042181</td>\n",
       "    </tr>\n",
       "  </tbody>\n",
       "</table>\n",
       "<p>142784 rows × 9 columns</p>\n",
       "</div>"
      ],
      "text/plain": [
       "       location              name     freq weighting  direction  n_stocks  \\\n",
       "0           usa               age  monthly        ew         -1       502   \n",
       "1           usa               age  monthly        ew         -1       505   \n",
       "2           usa               age  monthly        ew         -1       510   \n",
       "3           usa               age  monthly        ew         -1       512   \n",
       "4           usa               age  monthly        ew         -1       503   \n",
       "...         ...               ...      ...       ...        ...       ...   \n",
       "142779      usa  zero_trades_252d  monthly        ew          1      3841   \n",
       "142780      usa  zero_trades_252d  monthly        ew          1      3832   \n",
       "142781      usa  zero_trades_252d  monthly        ew          1      3833   \n",
       "142782      usa  zero_trades_252d  monthly        ew          1      3826   \n",
       "142783      usa  zero_trades_252d  monthly        ew          1      3807   \n",
       "\n",
       "        n_stocks_min        date       ret  \n",
       "0                  8  1926-03-31 -0.066167  \n",
       "1                 12  1926-04-30  0.010546  \n",
       "2                 17  1926-05-31 -0.020292  \n",
       "3                 21  1926-06-30 -0.008927  \n",
       "4                 23  1926-07-31  0.017724  \n",
       "...              ...         ...       ...  \n",
       "142779          1554  2023-08-31  0.067512  \n",
       "142780          1548  2023-09-30  0.044560  \n",
       "142781          1547  2023-10-31  0.064437  \n",
       "142782          1575  2023-11-30 -0.037080  \n",
       "142783          1566  2023-12-31 -0.042181  \n",
       "\n",
       "[142784 rows x 9 columns]"
      ]
     },
     "execution_count": 8,
     "metadata": {},
     "output_type": "execute_result"
    }
   ],
   "source": [
    "df_factor = pd.read_csv(\"D:Database/usa.csv\")\n",
    "df_factor"
   ]
  },
  {
   "cell_type": "code",
   "execution_count": 9,
   "id": "3a065097",
   "metadata": {},
   "outputs": [
    {
     "name": "stdout",
     "output_type": "stream",
     "text": [
      "<class 'pandas.core.frame.DataFrame'>\n",
      "RangeIndex: 142784 entries, 0 to 142783\n",
      "Data columns (total 9 columns):\n",
      " #   Column        Non-Null Count   Dtype  \n",
      "---  ------        --------------   -----  \n",
      " 0   location      142784 non-null  object \n",
      " 1   name          142784 non-null  object \n",
      " 2   freq          142784 non-null  object \n",
      " 3   weighting     142784 non-null  object \n",
      " 4   direction     142784 non-null  int64  \n",
      " 5   n_stocks      142784 non-null  int64  \n",
      " 6   n_stocks_min  142784 non-null  int64  \n",
      " 7   date          142784 non-null  object \n",
      " 8   ret           142784 non-null  float64\n",
      "dtypes: float64(1), int64(3), object(5)\n",
      "memory usage: 9.8+ MB\n"
     ]
    }
   ],
   "source": [
    "df_factor.info()"
   ]
  },
  {
   "cell_type": "code",
   "execution_count": 10,
   "id": "7a86b08f",
   "metadata": {},
   "outputs": [
    {
     "data": {
      "text/html": [
       "<div>\n",
       "<style scoped>\n",
       "    .dataframe tbody tr th:only-of-type {\n",
       "        vertical-align: middle;\n",
       "    }\n",
       "\n",
       "    .dataframe tbody tr th {\n",
       "        vertical-align: top;\n",
       "    }\n",
       "\n",
       "    .dataframe thead th {\n",
       "        text-align: right;\n",
       "    }\n",
       "</style>\n",
       "<table border=\"1\" class=\"dataframe\">\n",
       "  <thead>\n",
       "    <tr style=\"text-align: right;\">\n",
       "      <th></th>\n",
       "      <th>name</th>\n",
       "      <th>date</th>\n",
       "      <th>ret</th>\n",
       "    </tr>\n",
       "  </thead>\n",
       "  <tbody>\n",
       "    <tr>\n",
       "      <th>0</th>\n",
       "      <td>age</td>\n",
       "      <td>1926-03-31</td>\n",
       "      <td>-0.066167</td>\n",
       "    </tr>\n",
       "    <tr>\n",
       "      <th>1</th>\n",
       "      <td>age</td>\n",
       "      <td>1926-04-30</td>\n",
       "      <td>0.010546</td>\n",
       "    </tr>\n",
       "    <tr>\n",
       "      <th>2</th>\n",
       "      <td>age</td>\n",
       "      <td>1926-05-31</td>\n",
       "      <td>-0.020292</td>\n",
       "    </tr>\n",
       "    <tr>\n",
       "      <th>3</th>\n",
       "      <td>age</td>\n",
       "      <td>1926-06-30</td>\n",
       "      <td>-0.008927</td>\n",
       "    </tr>\n",
       "    <tr>\n",
       "      <th>4</th>\n",
       "      <td>age</td>\n",
       "      <td>1926-07-31</td>\n",
       "      <td>0.017724</td>\n",
       "    </tr>\n",
       "  </tbody>\n",
       "</table>\n",
       "</div>"
      ],
      "text/plain": [
       "  name        date       ret\n",
       "0  age  1926-03-31 -0.066167\n",
       "1  age  1926-04-30  0.010546\n",
       "2  age  1926-05-31 -0.020292\n",
       "3  age  1926-06-30 -0.008927\n",
       "4  age  1926-07-31  0.017724"
      ]
     },
     "execution_count": 10,
     "metadata": {},
     "output_type": "execute_result"
    }
   ],
   "source": [
    "df_factor1 = df_factor[['name', 'date' , 'ret']]\n",
    "df_factor1.head()"
   ]
  },
  {
   "cell_type": "code",
   "execution_count": 42,
   "id": "7896ee14",
   "metadata": {},
   "outputs": [
    {
     "data": {
      "text/plain": [
       "'1926-03-31'"
      ]
     },
     "execution_count": 42,
     "metadata": {},
     "output_type": "execute_result"
    }
   ],
   "source": [
    "# Check\n",
    "\n",
    "df_factor1.iloc[0,1]"
   ]
  },
  {
   "cell_type": "code",
   "execution_count": 12,
   "id": "aa6fd7d8",
   "metadata": {},
   "outputs": [
    {
     "data": {
      "text/plain": [
       "(50, 2)"
      ]
     },
     "execution_count": 12,
     "metadata": {},
     "output_type": "execute_result"
    }
   ],
   "source": [
    "df_index.shape"
   ]
  },
  {
   "cell_type": "code",
   "execution_count": 13,
   "id": "216def94",
   "metadata": {},
   "outputs": [
    {
     "data": {
      "text/plain": [
       "name\n",
       "market_equity      1176\n",
       "prc                1176\n",
       "rmax1_21d          1175\n",
       "ret_1_0            1175\n",
       "zero_trades_21d    1175\n",
       "                   ... \n",
       "ivol_hxz4_21d       667\n",
       "eqnetis_at          626\n",
       "eqnpo_me            626\n",
       "eqpo_me             626\n",
       "netis_at            626\n",
       "Name: count, Length: 153, dtype: int64"
      ]
     },
     "execution_count": 13,
     "metadata": {},
     "output_type": "execute_result"
    }
   ],
   "source": [
    "df_factor1['name'].value_counts()"
   ]
  },
  {
   "cell_type": "code",
   "execution_count": 17,
   "id": "de652fa8",
   "metadata": {},
   "outputs": [
    {
     "name": "stdout",
     "output_type": "stream",
     "text": [
      "['market_equity', 'prc', 'rmax1_21d', 'ret_1_0', 'zero_trades_21d', 'iskew_capm_21d', 'ivol_capm_21d', 'rvol_21d', 'rskew_21d', 'bidaskhl_21d', 'rmax5_21d', 'beta_dimson_21d', 'coskew_21d', 'age', 'ret_3_1', 'turnover_126d', 'turnover_var_126d', 'zero_trades_126d', 'ami_126d', 'dolvol_var_126d', 'dolvol_126d', 'rmax5_rvol_21d', 'prc_highprc_252d', 'ivol_capm_252d', 'zero_trades_252d', 'betadown_252d', 'ret_6_1', 'ret_9_1', 'div12m_me', 'mispricing_perf', 'ret_12_7', 'ret_12_1', 'seas_1_1an', 'eqnpo_12m', 'seas_1_1na', 'chcsho_12m', 'qmj_safety', 'betabab_1260d', 'corr_1260d', 'beta_60m', 'seas_2_5an', 'ret_60_12', 'seas_2_5na', 'seas_6_10na', 'seas_6_10an', 'seas_11_15an', 'seas_11_15na', 'seas_16_20na', 'seas_16_20an', 'bev_mev']\n"
     ]
    }
   ],
   "source": [
    "list_factor = list(df_factor1['name'].value_counts().index[:50])\n",
    "print(list_factor)"
   ]
  },
  {
   "cell_type": "code",
   "execution_count": 19,
   "id": "ad676553",
   "metadata": {},
   "outputs": [
    {
     "data": {
      "text/plain": [
       "56943"
      ]
     },
     "execution_count": 19,
     "metadata": {},
     "output_type": "execute_result"
    }
   ],
   "source": [
    "df_factor1['name'].isin(list_factor).sum()"
   ]
  },
  {
   "cell_type": "code",
   "execution_count": 20,
   "id": "a8a1acea",
   "metadata": {},
   "outputs": [
    {
     "data": {
      "text/html": [
       "<div>\n",
       "<style scoped>\n",
       "    .dataframe tbody tr th:only-of-type {\n",
       "        vertical-align: middle;\n",
       "    }\n",
       "\n",
       "    .dataframe tbody tr th {\n",
       "        vertical-align: top;\n",
       "    }\n",
       "\n",
       "    .dataframe thead th {\n",
       "        text-align: right;\n",
       "    }\n",
       "</style>\n",
       "<table border=\"1\" class=\"dataframe\">\n",
       "  <thead>\n",
       "    <tr style=\"text-align: right;\">\n",
       "      <th></th>\n",
       "      <th>name</th>\n",
       "      <th>date</th>\n",
       "      <th>ret</th>\n",
       "    </tr>\n",
       "  </thead>\n",
       "  <tbody>\n",
       "    <tr>\n",
       "      <th>0</th>\n",
       "      <td>age</td>\n",
       "      <td>1926-03-31</td>\n",
       "      <td>-0.066167</td>\n",
       "    </tr>\n",
       "    <tr>\n",
       "      <th>1</th>\n",
       "      <td>age</td>\n",
       "      <td>1926-04-30</td>\n",
       "      <td>0.010546</td>\n",
       "    </tr>\n",
       "    <tr>\n",
       "      <th>2</th>\n",
       "      <td>age</td>\n",
       "      <td>1926-05-31</td>\n",
       "      <td>-0.020292</td>\n",
       "    </tr>\n",
       "    <tr>\n",
       "      <th>3</th>\n",
       "      <td>age</td>\n",
       "      <td>1926-06-30</td>\n",
       "      <td>-0.008927</td>\n",
       "    </tr>\n",
       "    <tr>\n",
       "      <th>4</th>\n",
       "      <td>age</td>\n",
       "      <td>1926-07-31</td>\n",
       "      <td>0.017724</td>\n",
       "    </tr>\n",
       "  </tbody>\n",
       "</table>\n",
       "</div>"
      ],
      "text/plain": [
       "  name        date       ret\n",
       "0  age  1926-03-31 -0.066167\n",
       "1  age  1926-04-30  0.010546\n",
       "2  age  1926-05-31 -0.020292\n",
       "3  age  1926-06-30 -0.008927\n",
       "4  age  1926-07-31  0.017724"
      ]
     },
     "execution_count": 20,
     "metadata": {},
     "output_type": "execute_result"
    }
   ],
   "source": [
    "df_factor2 = df_factor1[df_factor1['name'].isin(list_factor)]\n",
    "df_factor2.head()"
   ]
  },
  {
   "cell_type": "code",
   "execution_count": 24,
   "id": "21ce5068",
   "metadata": {},
   "outputs": [
    {
     "data": {
      "text/plain": [
       "56943"
      ]
     },
     "execution_count": 24,
     "metadata": {},
     "output_type": "execute_result"
    }
   ],
   "source": [
    "df_factor1['name'].apply(lambda x : x in list_factor).sum()"
   ]
  },
  {
   "cell_type": "code",
   "execution_count": 25,
   "id": "313c69e0",
   "metadata": {},
   "outputs": [
    {
     "data": {
      "text/plain": [
       "(56943, 3)"
      ]
     },
     "execution_count": 25,
     "metadata": {},
     "output_type": "execute_result"
    }
   ],
   "source": [
    "df_factor2.shape"
   ]
  },
  {
   "cell_type": "code",
   "execution_count": 27,
   "id": "31c62a3b",
   "metadata": {},
   "outputs": [
    {
     "data": {
      "text/plain": [
       "0    2020\n",
       "1    2020\n",
       "2    2020\n",
       "3    2020\n",
       "4    2020\n",
       "Name: Date, dtype: int64"
      ]
     },
     "execution_count": 27,
     "metadata": {},
     "output_type": "execute_result"
    }
   ],
   "source": [
    "list_year = df_index['Date'].apply(lambda x : x.year)\n",
    "list_year.head()"
   ]
  },
  {
   "cell_type": "code",
   "execution_count": 28,
   "id": "d779ae2d",
   "metadata": {},
   "outputs": [
    {
     "data": {
      "text/plain": [
       "0         1926\n",
       "1         1926\n",
       "2         1926\n",
       "3         1926\n",
       "4         1926\n",
       "          ... \n",
       "142779    2023\n",
       "142780    2023\n",
       "142781    2023\n",
       "142782    2023\n",
       "142783    2023\n",
       "Name: date, Length: 56943, dtype: object"
      ]
     },
     "execution_count": 28,
     "metadata": {},
     "output_type": "execute_result"
    }
   ],
   "source": [
    "df_factor2['date'].apply(lambda x : x[:4])"
   ]
  },
  {
   "cell_type": "code",
   "execution_count": 29,
   "id": "13b35eae",
   "metadata": {},
   "outputs": [
    {
     "data": {
      "text/plain": [
       "0         1926\n",
       "1         1926\n",
       "2         1926\n",
       "3         1926\n",
       "4         1926\n",
       "          ... \n",
       "142779    2023\n",
       "142780    2023\n",
       "142781    2023\n",
       "142782    2023\n",
       "142783    2023\n",
       "Name: date, Length: 56943, dtype: object"
      ]
     },
     "execution_count": 29,
     "metadata": {},
     "output_type": "execute_result"
    }
   ],
   "source": [
    "df_factor2['date'].str[:4]"
   ]
  },
  {
   "cell_type": "code",
   "execution_count": 33,
   "id": "b7cb9b86",
   "metadata": {},
   "outputs": [
    {
     "data": {
      "text/plain": [
       "0         1926\n",
       "1         1926\n",
       "2         1926\n",
       "3         1926\n",
       "4         1926\n",
       "          ... \n",
       "142779    2023\n",
       "142780    2023\n",
       "142781    2023\n",
       "142782    2023\n",
       "142783    2023\n",
       "Name: date, Length: 56943, dtype: int64"
      ]
     },
     "execution_count": 33,
     "metadata": {},
     "output_type": "execute_result"
    }
   ],
   "source": [
    "df_factor2['date'].apply(lambda x : int(x[:4]))"
   ]
  },
  {
   "cell_type": "code",
   "execution_count": 34,
   "id": "15ae88bd",
   "metadata": {},
   "outputs": [
    {
     "data": {
      "text/html": [
       "<div>\n",
       "<style scoped>\n",
       "    .dataframe tbody tr th:only-of-type {\n",
       "        vertical-align: middle;\n",
       "    }\n",
       "\n",
       "    .dataframe tbody tr th {\n",
       "        vertical-align: top;\n",
       "    }\n",
       "\n",
       "    .dataframe thead th {\n",
       "        text-align: right;\n",
       "    }\n",
       "</style>\n",
       "<table border=\"1\" class=\"dataframe\">\n",
       "  <thead>\n",
       "    <tr style=\"text-align: right;\">\n",
       "      <th></th>\n",
       "      <th>name</th>\n",
       "      <th>date</th>\n",
       "      <th>ret</th>\n",
       "    </tr>\n",
       "  </thead>\n",
       "  <tbody>\n",
       "    <tr>\n",
       "      <th>1126</th>\n",
       "      <td>age</td>\n",
       "      <td>2020-01-31</td>\n",
       "      <td>0.041996</td>\n",
       "    </tr>\n",
       "    <tr>\n",
       "      <th>1127</th>\n",
       "      <td>age</td>\n",
       "      <td>2020-02-29</td>\n",
       "      <td>0.037509</td>\n",
       "    </tr>\n",
       "    <tr>\n",
       "      <th>1128</th>\n",
       "      <td>age</td>\n",
       "      <td>2020-03-31</td>\n",
       "      <td>-0.019392</td>\n",
       "    </tr>\n",
       "    <tr>\n",
       "      <th>1129</th>\n",
       "      <td>age</td>\n",
       "      <td>2020-04-30</td>\n",
       "      <td>0.059922</td>\n",
       "    </tr>\n",
       "    <tr>\n",
       "      <th>1130</th>\n",
       "      <td>age</td>\n",
       "      <td>2020-05-31</td>\n",
       "      <td>0.079325</td>\n",
       "    </tr>\n",
       "  </tbody>\n",
       "</table>\n",
       "</div>"
      ],
      "text/plain": [
       "     name        date       ret\n",
       "1126  age  2020-01-31  0.041996\n",
       "1127  age  2020-02-29  0.037509\n",
       "1128  age  2020-03-31 -0.019392\n",
       "1129  age  2020-04-30  0.059922\n",
       "1130  age  2020-05-31  0.079325"
      ]
     },
     "execution_count": 34,
     "metadata": {},
     "output_type": "execute_result"
    }
   ],
   "source": [
    "a = df_factor2['date'].apply(lambda x : int(x[:4])).isin(list_year)\n",
    "df_factor3 = df_factor2[a]\n",
    "df_factor3.head()"
   ]
  },
  {
   "cell_type": "code",
   "execution_count": 35,
   "id": "82f1c351",
   "metadata": {},
   "outputs": [
    {
     "data": {
      "text/plain": [
       "1126      2020-01\n",
       "1127      2020-02\n",
       "1128      2020-03\n",
       "1129      2020-04\n",
       "1130      2020-05\n",
       "           ...   \n",
       "142779    2023-08\n",
       "142780    2023-09\n",
       "142781    2023-10\n",
       "142782    2023-11\n",
       "142783    2023-12\n",
       "Name: date, Length: 2400, dtype: object"
      ]
     },
     "execution_count": 35,
     "metadata": {},
     "output_type": "execute_result"
    }
   ],
   "source": [
    "df_factor3['date'].str[:7]"
   ]
  },
  {
   "cell_type": "code",
   "execution_count": 37,
   "id": "cae29861",
   "metadata": {},
   "outputs": [
    {
     "data": {
      "text/plain": [
       "'2020-05'"
      ]
     },
     "execution_count": 37,
     "metadata": {},
     "output_type": "execute_result"
    }
   ],
   "source": [
    "# Check\n",
    "\n",
    "df_factor3['date'].str[:7][1130]"
   ]
  },
  {
   "cell_type": "code",
   "execution_count": 39,
   "id": "a0021d39",
   "metadata": {},
   "outputs": [
    {
     "name": "stderr",
     "output_type": "stream",
     "text": [
      "C:\\Users\\Yasin\\AppData\\Local\\Temp\\ipykernel_22272\\2625087782.py:1: SettingWithCopyWarning: \n",
      "A value is trying to be set on a copy of a slice from a DataFrame.\n",
      "Try using .loc[row_indexer,col_indexer] = value instead\n",
      "\n",
      "See the caveats in the documentation: https://pandas.pydata.org/pandas-docs/stable/user_guide/indexing.html#returning-a-view-versus-a-copy\n",
      "  df_factor3['new_date'] = df_factor3['date'].apply(lambda x: str(x).replace('-','/')[:7])\n"
     ]
    },
    {
     "data": {
      "text/html": [
       "<div>\n",
       "<style scoped>\n",
       "    .dataframe tbody tr th:only-of-type {\n",
       "        vertical-align: middle;\n",
       "    }\n",
       "\n",
       "    .dataframe tbody tr th {\n",
       "        vertical-align: top;\n",
       "    }\n",
       "\n",
       "    .dataframe thead th {\n",
       "        text-align: right;\n",
       "    }\n",
       "</style>\n",
       "<table border=\"1\" class=\"dataframe\">\n",
       "  <thead>\n",
       "    <tr style=\"text-align: right;\">\n",
       "      <th></th>\n",
       "      <th>name</th>\n",
       "      <th>date</th>\n",
       "      <th>ret</th>\n",
       "      <th>new_date</th>\n",
       "    </tr>\n",
       "  </thead>\n",
       "  <tbody>\n",
       "    <tr>\n",
       "      <th>1126</th>\n",
       "      <td>age</td>\n",
       "      <td>2020-01-31</td>\n",
       "      <td>0.041996</td>\n",
       "      <td>2020/01</td>\n",
       "    </tr>\n",
       "    <tr>\n",
       "      <th>1127</th>\n",
       "      <td>age</td>\n",
       "      <td>2020-02-29</td>\n",
       "      <td>0.037509</td>\n",
       "      <td>2020/02</td>\n",
       "    </tr>\n",
       "    <tr>\n",
       "      <th>1128</th>\n",
       "      <td>age</td>\n",
       "      <td>2020-03-31</td>\n",
       "      <td>-0.019392</td>\n",
       "      <td>2020/03</td>\n",
       "    </tr>\n",
       "    <tr>\n",
       "      <th>1129</th>\n",
       "      <td>age</td>\n",
       "      <td>2020-04-30</td>\n",
       "      <td>0.059922</td>\n",
       "      <td>2020/04</td>\n",
       "    </tr>\n",
       "    <tr>\n",
       "      <th>1130</th>\n",
       "      <td>age</td>\n",
       "      <td>2020-05-31</td>\n",
       "      <td>0.079325</td>\n",
       "      <td>2020/05</td>\n",
       "    </tr>\n",
       "  </tbody>\n",
       "</table>\n",
       "</div>"
      ],
      "text/plain": [
       "     name        date       ret new_date\n",
       "1126  age  2020-01-31  0.041996  2020/01\n",
       "1127  age  2020-02-29  0.037509  2020/02\n",
       "1128  age  2020-03-31 -0.019392  2020/03\n",
       "1129  age  2020-04-30  0.059922  2020/04\n",
       "1130  age  2020-05-31  0.079325  2020/05"
      ]
     },
     "execution_count": 39,
     "metadata": {},
     "output_type": "execute_result"
    }
   ],
   "source": [
    "df_factor3['new_date'] = df_factor3['date'].apply(lambda x: str(x).replace('-','/')[:7])\n",
    "df_factor3.head()"
   ]
  },
  {
   "cell_type": "code",
   "execution_count": 41,
   "id": "25477caf",
   "metadata": {},
   "outputs": [
    {
     "data": {
      "text/plain": [
       "'2020/01'"
      ]
     },
     "execution_count": 41,
     "metadata": {},
     "output_type": "execute_result"
    }
   ],
   "source": [
    "# Check\n",
    "\n",
    "df_factor3.iloc[0,3]"
   ]
  },
  {
   "cell_type": "code",
   "execution_count": 43,
   "id": "55f7f271",
   "metadata": {},
   "outputs": [
    {
     "data": {
      "text/html": [
       "<div>\n",
       "<style scoped>\n",
       "    .dataframe tbody tr th:only-of-type {\n",
       "        vertical-align: middle;\n",
       "    }\n",
       "\n",
       "    .dataframe tbody tr th {\n",
       "        vertical-align: top;\n",
       "    }\n",
       "\n",
       "    .dataframe thead th {\n",
       "        text-align: right;\n",
       "    }\n",
       "</style>\n",
       "<table border=\"1\" class=\"dataframe\">\n",
       "  <thead>\n",
       "    <tr style=\"text-align: right;\">\n",
       "      <th></th>\n",
       "      <th>Date</th>\n",
       "      <th>Value</th>\n",
       "    </tr>\n",
       "  </thead>\n",
       "  <tbody>\n",
       "    <tr>\n",
       "      <th>0</th>\n",
       "      <td>2020-05-31</td>\n",
       "      <td>0.0453</td>\n",
       "    </tr>\n",
       "    <tr>\n",
       "      <th>1</th>\n",
       "      <td>2020-06-30</td>\n",
       "      <td>0.0184</td>\n",
       "    </tr>\n",
       "    <tr>\n",
       "      <th>2</th>\n",
       "      <td>2020-07-31</td>\n",
       "      <td>0.0551</td>\n",
       "    </tr>\n",
       "    <tr>\n",
       "      <th>3</th>\n",
       "      <td>2020-08-31</td>\n",
       "      <td>0.0701</td>\n",
       "    </tr>\n",
       "    <tr>\n",
       "      <th>4</th>\n",
       "      <td>2020-09-30</td>\n",
       "      <td>-0.0392</td>\n",
       "    </tr>\n",
       "  </tbody>\n",
       "</table>\n",
       "</div>"
      ],
      "text/plain": [
       "        Date   Value\n",
       "0 2020-05-31  0.0453\n",
       "1 2020-06-30  0.0184\n",
       "2 2020-07-31  0.0551\n",
       "3 2020-08-31  0.0701\n",
       "4 2020-09-30 -0.0392"
      ]
     },
     "execution_count": 43,
     "metadata": {},
     "output_type": "execute_result"
    }
   ],
   "source": [
    "df_index.head()"
   ]
  },
  {
   "cell_type": "code",
   "execution_count": 44,
   "id": "8dc993ed",
   "metadata": {},
   "outputs": [
    {
     "data": {
      "text/html": [
       "<div>\n",
       "<style scoped>\n",
       "    .dataframe tbody tr th:only-of-type {\n",
       "        vertical-align: middle;\n",
       "    }\n",
       "\n",
       "    .dataframe tbody tr th {\n",
       "        vertical-align: top;\n",
       "    }\n",
       "\n",
       "    .dataframe thead th {\n",
       "        text-align: right;\n",
       "    }\n",
       "</style>\n",
       "<table border=\"1\" class=\"dataframe\">\n",
       "  <thead>\n",
       "    <tr style=\"text-align: right;\">\n",
       "      <th></th>\n",
       "      <th>Date</th>\n",
       "      <th>Value</th>\n",
       "      <th>value_date</th>\n",
       "    </tr>\n",
       "  </thead>\n",
       "  <tbody>\n",
       "    <tr>\n",
       "      <th>0</th>\n",
       "      <td>2020-05-31</td>\n",
       "      <td>0.0453</td>\n",
       "      <td>2020/05</td>\n",
       "    </tr>\n",
       "    <tr>\n",
       "      <th>1</th>\n",
       "      <td>2020-06-30</td>\n",
       "      <td>0.0184</td>\n",
       "      <td>2020/06</td>\n",
       "    </tr>\n",
       "    <tr>\n",
       "      <th>2</th>\n",
       "      <td>2020-07-31</td>\n",
       "      <td>0.0551</td>\n",
       "      <td>2020/07</td>\n",
       "    </tr>\n",
       "    <tr>\n",
       "      <th>3</th>\n",
       "      <td>2020-08-31</td>\n",
       "      <td>0.0701</td>\n",
       "      <td>2020/08</td>\n",
       "    </tr>\n",
       "    <tr>\n",
       "      <th>4</th>\n",
       "      <td>2020-09-30</td>\n",
       "      <td>-0.0392</td>\n",
       "      <td>2020/09</td>\n",
       "    </tr>\n",
       "  </tbody>\n",
       "</table>\n",
       "</div>"
      ],
      "text/plain": [
       "        Date   Value value_date\n",
       "0 2020-05-31  0.0453    2020/05\n",
       "1 2020-06-30  0.0184    2020/06\n",
       "2 2020-07-31  0.0551    2020/07\n",
       "3 2020-08-31  0.0701    2020/08\n",
       "4 2020-09-30 -0.0392    2020/09"
      ]
     },
     "execution_count": 44,
     "metadata": {},
     "output_type": "execute_result"
    }
   ],
   "source": [
    "b = df_index['Date'].apply(lambda x: str(x).replace('-','/')[:7])\n",
    "df_index['value_date'] = b\n",
    "\n",
    "df_index.head()"
   ]
  },
  {
   "cell_type": "code",
   "execution_count": 46,
   "id": "36897273",
   "metadata": {},
   "outputs": [
    {
     "data": {
      "text/plain": [
       "'2020/05'"
      ]
     },
     "execution_count": 46,
     "metadata": {},
     "output_type": "execute_result"
    }
   ],
   "source": [
    "# Check\n",
    "\n",
    "df_index.iloc[0,2]"
   ]
  },
  {
   "cell_type": "code",
   "execution_count": 48,
   "id": "941097d1",
   "metadata": {},
   "outputs": [
    {
     "name": "stdout",
     "output_type": "stream",
     "text": [
      "['market_equity', 'prc', 'rmax1_21d', 'ret_1_0', 'zero_trades_21d', 'iskew_capm_21d', 'ivol_capm_21d', 'rvol_21d', 'rskew_21d', 'bidaskhl_21d', 'rmax5_21d', 'beta_dimson_21d', 'coskew_21d', 'age', 'ret_3_1', 'turnover_126d', 'turnover_var_126d', 'zero_trades_126d', 'ami_126d', 'dolvol_var_126d', 'dolvol_126d', 'rmax5_rvol_21d', 'prc_highprc_252d', 'ivol_capm_252d', 'zero_trades_252d', 'betadown_252d', 'ret_6_1', 'ret_9_1', 'div12m_me', 'mispricing_perf', 'ret_12_7', 'ret_12_1', 'seas_1_1an', 'eqnpo_12m', 'seas_1_1na', 'chcsho_12m', 'qmj_safety', 'betabab_1260d', 'corr_1260d', 'beta_60m', 'seas_2_5an', 'ret_60_12', 'seas_2_5na', 'seas_6_10na', 'seas_6_10an', 'seas_11_15an', 'seas_11_15na', 'seas_16_20na', 'seas_16_20an', 'bev_mev']\n"
     ]
    }
   ],
   "source": [
    "print(list_factor)"
   ]
  },
  {
   "cell_type": "code",
   "execution_count": 49,
   "id": "490889c7",
   "metadata": {},
   "outputs": [
    {
     "data": {
      "text/plain": [
       "'market_equity'"
      ]
     },
     "execution_count": 49,
     "metadata": {},
     "output_type": "execute_result"
    }
   ],
   "source": [
    "n = 0\n",
    "list_factor[n]"
   ]
  },
  {
   "cell_type": "code",
   "execution_count": 50,
   "id": "af183947",
   "metadata": {},
   "outputs": [
    {
     "data": {
      "text/html": [
       "<div>\n",
       "<style scoped>\n",
       "    .dataframe tbody tr th:only-of-type {\n",
       "        vertical-align: middle;\n",
       "    }\n",
       "\n",
       "    .dataframe tbody tr th {\n",
       "        vertical-align: top;\n",
       "    }\n",
       "\n",
       "    .dataframe thead th {\n",
       "        text-align: right;\n",
       "    }\n",
       "</style>\n",
       "<table border=\"1\" class=\"dataframe\">\n",
       "  <thead>\n",
       "    <tr style=\"text-align: right;\">\n",
       "      <th></th>\n",
       "      <th>name</th>\n",
       "      <th>date</th>\n",
       "      <th>ret</th>\n",
       "      <th>new_date</th>\n",
       "    </tr>\n",
       "  </thead>\n",
       "  <tbody>\n",
       "    <tr>\n",
       "      <th>63091</th>\n",
       "      <td>market_equity</td>\n",
       "      <td>2020-01-31</td>\n",
       "      <td>-0.002362</td>\n",
       "      <td>2020/01</td>\n",
       "    </tr>\n",
       "    <tr>\n",
       "      <th>63092</th>\n",
       "      <td>market_equity</td>\n",
       "      <td>2020-02-29</td>\n",
       "      <td>0.013139</td>\n",
       "      <td>2020/02</td>\n",
       "    </tr>\n",
       "    <tr>\n",
       "      <th>63093</th>\n",
       "      <td>market_equity</td>\n",
       "      <td>2020-03-31</td>\n",
       "      <td>-0.056472</td>\n",
       "      <td>2020/03</td>\n",
       "    </tr>\n",
       "    <tr>\n",
       "      <th>63094</th>\n",
       "      <td>market_equity</td>\n",
       "      <td>2020-04-30</td>\n",
       "      <td>0.066234</td>\n",
       "      <td>2020/04</td>\n",
       "    </tr>\n",
       "    <tr>\n",
       "      <th>63095</th>\n",
       "      <td>market_equity</td>\n",
       "      <td>2020-05-31</td>\n",
       "      <td>0.005801</td>\n",
       "      <td>2020/05</td>\n",
       "    </tr>\n",
       "  </tbody>\n",
       "</table>\n",
       "</div>"
      ],
      "text/plain": [
       "                name        date       ret new_date\n",
       "63091  market_equity  2020-01-31 -0.002362  2020/01\n",
       "63092  market_equity  2020-02-29  0.013139  2020/02\n",
       "63093  market_equity  2020-03-31 -0.056472  2020/03\n",
       "63094  market_equity  2020-04-30  0.066234  2020/04\n",
       "63095  market_equity  2020-05-31  0.005801  2020/05"
      ]
     },
     "execution_count": 50,
     "metadata": {},
     "output_type": "execute_result"
    }
   ],
   "source": [
    "df_factor4 = df_factor3[df_factor3['name']==list_factor[n]]\n",
    "df_factor4.head()"
   ]
  },
  {
   "cell_type": "code",
   "execution_count": 51,
   "id": "39c62262",
   "metadata": {},
   "outputs": [
    {
     "data": {
      "text/html": [
       "<div>\n",
       "<style scoped>\n",
       "    .dataframe tbody tr th:only-of-type {\n",
       "        vertical-align: middle;\n",
       "    }\n",
       "\n",
       "    .dataframe tbody tr th {\n",
       "        vertical-align: top;\n",
       "    }\n",
       "\n",
       "    .dataframe thead th {\n",
       "        text-align: right;\n",
       "    }\n",
       "</style>\n",
       "<table border=\"1\" class=\"dataframe\">\n",
       "  <thead>\n",
       "    <tr style=\"text-align: right;\">\n",
       "      <th></th>\n",
       "      <th>Date</th>\n",
       "      <th>Value</th>\n",
       "      <th>value_date</th>\n",
       "      <th>name</th>\n",
       "      <th>date</th>\n",
       "      <th>ret</th>\n",
       "      <th>new_date</th>\n",
       "    </tr>\n",
       "  </thead>\n",
       "  <tbody>\n",
       "    <tr>\n",
       "      <th>0</th>\n",
       "      <td>2020-05-31</td>\n",
       "      <td>0.0453</td>\n",
       "      <td>2020/05</td>\n",
       "      <td>market_equity</td>\n",
       "      <td>2020-05-31</td>\n",
       "      <td>0.005801</td>\n",
       "      <td>2020/05</td>\n",
       "    </tr>\n",
       "    <tr>\n",
       "      <th>1</th>\n",
       "      <td>2020-06-30</td>\n",
       "      <td>0.0184</td>\n",
       "      <td>2020/06</td>\n",
       "      <td>market_equity</td>\n",
       "      <td>2020-06-30</td>\n",
       "      <td>0.079716</td>\n",
       "      <td>2020/06</td>\n",
       "    </tr>\n",
       "    <tr>\n",
       "      <th>2</th>\n",
       "      <td>2020-07-31</td>\n",
       "      <td>0.0551</td>\n",
       "      <td>2020/07</td>\n",
       "      <td>market_equity</td>\n",
       "      <td>2020-07-31</td>\n",
       "      <td>-0.020536</td>\n",
       "      <td>2020/07</td>\n",
       "    </tr>\n",
       "    <tr>\n",
       "      <th>3</th>\n",
       "      <td>2020-08-31</td>\n",
       "      <td>0.0701</td>\n",
       "      <td>2020/08</td>\n",
       "      <td>market_equity</td>\n",
       "      <td>2020-08-31</td>\n",
       "      <td>-0.003762</td>\n",
       "      <td>2020/08</td>\n",
       "    </tr>\n",
       "    <tr>\n",
       "      <th>4</th>\n",
       "      <td>2020-09-30</td>\n",
       "      <td>-0.0392</td>\n",
       "      <td>2020/09</td>\n",
       "      <td>market_equity</td>\n",
       "      <td>2020-09-30</td>\n",
       "      <td>-0.010444</td>\n",
       "      <td>2020/09</td>\n",
       "    </tr>\n",
       "  </tbody>\n",
       "</table>\n",
       "</div>"
      ],
      "text/plain": [
       "        Date   Value value_date           name        date       ret new_date\n",
       "0 2020-05-31  0.0453    2020/05  market_equity  2020-05-31  0.005801  2020/05\n",
       "1 2020-06-30  0.0184    2020/06  market_equity  2020-06-30  0.079716  2020/06\n",
       "2 2020-07-31  0.0551    2020/07  market_equity  2020-07-31 -0.020536  2020/07\n",
       "3 2020-08-31  0.0701    2020/08  market_equity  2020-08-31 -0.003762  2020/08\n",
       "4 2020-09-30 -0.0392    2020/09  market_equity  2020-09-30 -0.010444  2020/09"
      ]
     },
     "execution_count": 51,
     "metadata": {},
     "output_type": "execute_result"
    }
   ],
   "source": [
    "data_merge = pd.merge(df_index,df_factor4,left_on='value_date',right_on='new_date',how='inner')\n",
    "data_merge.head()"
   ]
  },
  {
   "cell_type": "code",
   "execution_count": 52,
   "id": "c98dc8aa",
   "metadata": {},
   "outputs": [
    {
     "data": {
      "text/html": [
       "<div>\n",
       "<style scoped>\n",
       "    .dataframe tbody tr th:only-of-type {\n",
       "        vertical-align: middle;\n",
       "    }\n",
       "\n",
       "    .dataframe tbody tr th {\n",
       "        vertical-align: top;\n",
       "    }\n",
       "\n",
       "    .dataframe thead th {\n",
       "        text-align: right;\n",
       "    }\n",
       "</style>\n",
       "<table border=\"1\" class=\"dataframe\">\n",
       "  <thead>\n",
       "    <tr style=\"text-align: right;\">\n",
       "      <th></th>\n",
       "      <th>factor_name</th>\n",
       "      <th>year-month</th>\n",
       "      <th>index_return</th>\n",
       "      <th>factor_return</th>\n",
       "    </tr>\n",
       "  </thead>\n",
       "  <tbody>\n",
       "    <tr>\n",
       "      <th>0</th>\n",
       "      <td>market_equity</td>\n",
       "      <td>2020/05</td>\n",
       "      <td>0.0453</td>\n",
       "      <td>0.005801</td>\n",
       "    </tr>\n",
       "    <tr>\n",
       "      <th>1</th>\n",
       "      <td>market_equity</td>\n",
       "      <td>2020/06</td>\n",
       "      <td>0.0184</td>\n",
       "      <td>0.079716</td>\n",
       "    </tr>\n",
       "    <tr>\n",
       "      <th>2</th>\n",
       "      <td>market_equity</td>\n",
       "      <td>2020/07</td>\n",
       "      <td>0.0551</td>\n",
       "      <td>-0.020536</td>\n",
       "    </tr>\n",
       "    <tr>\n",
       "      <th>3</th>\n",
       "      <td>market_equity</td>\n",
       "      <td>2020/08</td>\n",
       "      <td>0.0701</td>\n",
       "      <td>-0.003762</td>\n",
       "    </tr>\n",
       "    <tr>\n",
       "      <th>4</th>\n",
       "      <td>market_equity</td>\n",
       "      <td>2020/09</td>\n",
       "      <td>-0.0392</td>\n",
       "      <td>-0.010444</td>\n",
       "    </tr>\n",
       "  </tbody>\n",
       "</table>\n",
       "</div>"
      ],
      "text/plain": [
       "     factor_name year-month  index_return  factor_return\n",
       "0  market_equity    2020/05        0.0453       0.005801\n",
       "1  market_equity    2020/06        0.0184       0.079716\n",
       "2  market_equity    2020/07        0.0551      -0.020536\n",
       "3  market_equity    2020/08        0.0701      -0.003762\n",
       "4  market_equity    2020/09       -0.0392      -0.010444"
      ]
     },
     "execution_count": 52,
     "metadata": {},
     "output_type": "execute_result"
    }
   ],
   "source": [
    "data_merge2 = data_merge.rename(columns={'Value':'index_return','ret':'factor_return','new_date':'year-month','name':'factor_name'})\n",
    "df_factor5 = data_merge2[['factor_name','year-month','index_return','factor_return']]\n",
    "df_factor5.head()"
   ]
  },
  {
   "cell_type": "code",
   "execution_count": 53,
   "id": "c2841727",
   "metadata": {},
   "outputs": [],
   "source": [
    "final1 = df_factor5"
   ]
  },
  {
   "cell_type": "code",
   "execution_count": 55,
   "id": "2e0b9c6c",
   "metadata": {},
   "outputs": [
    {
     "data": {
      "text/plain": [
       "-0.0445863104018219"
      ]
     },
     "execution_count": 55,
     "metadata": {},
     "output_type": "execute_result"
    }
   ],
   "source": [
    "np.corrcoef(final1['index_return'] , final1['factor_return'])[0,1]"
   ]
  },
  {
   "cell_type": "code",
   "execution_count": 56,
   "id": "31a9b109",
   "metadata": {},
   "outputs": [],
   "source": [
    "import statsmodels.api as sm"
   ]
  },
  {
   "cell_type": "code",
   "execution_count": 57,
   "id": "fa9f8248",
   "metadata": {},
   "outputs": [
    {
     "name": "stderr",
     "output_type": "stream",
     "text": [
      "C:\\Users\\Yasin\\AppData\\Local\\Temp\\ipykernel_22272\\2637878363.py:1: SettingWithCopyWarning: \n",
      "A value is trying to be set on a copy of a slice from a DataFrame.\n",
      "Try using .loc[row_indexer,col_indexer] = value instead\n",
      "\n",
      "See the caveats in the documentation: https://pandas.pydata.org/pandas-docs/stable/user_guide/indexing.html#returning-a-view-versus-a-copy\n",
      "  final1['intercept'] = 1\n"
     ]
    },
    {
     "data": {
      "text/html": [
       "<div>\n",
       "<style scoped>\n",
       "    .dataframe tbody tr th:only-of-type {\n",
       "        vertical-align: middle;\n",
       "    }\n",
       "\n",
       "    .dataframe tbody tr th {\n",
       "        vertical-align: top;\n",
       "    }\n",
       "\n",
       "    .dataframe thead th {\n",
       "        text-align: right;\n",
       "    }\n",
       "</style>\n",
       "<table border=\"1\" class=\"dataframe\">\n",
       "  <thead>\n",
       "    <tr style=\"text-align: right;\">\n",
       "      <th></th>\n",
       "      <th>factor_name</th>\n",
       "      <th>year-month</th>\n",
       "      <th>index_return</th>\n",
       "      <th>factor_return</th>\n",
       "      <th>intercept</th>\n",
       "    </tr>\n",
       "  </thead>\n",
       "  <tbody>\n",
       "    <tr>\n",
       "      <th>0</th>\n",
       "      <td>market_equity</td>\n",
       "      <td>2020/05</td>\n",
       "      <td>0.0453</td>\n",
       "      <td>0.005801</td>\n",
       "      <td>1</td>\n",
       "    </tr>\n",
       "    <tr>\n",
       "      <th>1</th>\n",
       "      <td>market_equity</td>\n",
       "      <td>2020/06</td>\n",
       "      <td>0.0184</td>\n",
       "      <td>0.079716</td>\n",
       "      <td>1</td>\n",
       "    </tr>\n",
       "    <tr>\n",
       "      <th>2</th>\n",
       "      <td>market_equity</td>\n",
       "      <td>2020/07</td>\n",
       "      <td>0.0551</td>\n",
       "      <td>-0.020536</td>\n",
       "      <td>1</td>\n",
       "    </tr>\n",
       "    <tr>\n",
       "      <th>3</th>\n",
       "      <td>market_equity</td>\n",
       "      <td>2020/08</td>\n",
       "      <td>0.0701</td>\n",
       "      <td>-0.003762</td>\n",
       "      <td>1</td>\n",
       "    </tr>\n",
       "    <tr>\n",
       "      <th>4</th>\n",
       "      <td>market_equity</td>\n",
       "      <td>2020/09</td>\n",
       "      <td>-0.0392</td>\n",
       "      <td>-0.010444</td>\n",
       "      <td>1</td>\n",
       "    </tr>\n",
       "  </tbody>\n",
       "</table>\n",
       "</div>"
      ],
      "text/plain": [
       "     factor_name year-month  index_return  factor_return  intercept\n",
       "0  market_equity    2020/05        0.0453       0.005801          1\n",
       "1  market_equity    2020/06        0.0184       0.079716          1\n",
       "2  market_equity    2020/07        0.0551      -0.020536          1\n",
       "3  market_equity    2020/08        0.0701      -0.003762          1\n",
       "4  market_equity    2020/09       -0.0392      -0.010444          1"
      ]
     },
     "execution_count": 57,
     "metadata": {},
     "output_type": "execute_result"
    }
   ],
   "source": [
    "final1['intercept'] = 1\n",
    "final1.head()"
   ]
  },
  {
   "cell_type": "code",
   "execution_count": 58,
   "id": "9d8f26e4",
   "metadata": {},
   "outputs": [
    {
     "data": {
      "text/html": [
       "<table class=\"simpletable\">\n",
       "<caption>OLS Regression Results</caption>\n",
       "<tr>\n",
       "  <th>Dep. Variable:</th>      <td>index_return</td>   <th>  R-squared:         </th> <td>   0.002</td>\n",
       "</tr>\n",
       "<tr>\n",
       "  <th>Model:</th>                   <td>OLS</td>       <th>  Adj. R-squared:    </th> <td>  -0.022</td>\n",
       "</tr>\n",
       "<tr>\n",
       "  <th>Method:</th>             <td>Least Squares</td>  <th>  F-statistic:       </th> <td> 0.08366</td>\n",
       "</tr>\n",
       "<tr>\n",
       "  <th>Date:</th>             <td>Thu, 08 Aug 2024</td> <th>  Prob (F-statistic):</th>  <td> 0.774</td> \n",
       "</tr>\n",
       "<tr>\n",
       "  <th>Time:</th>                 <td>21:47:50</td>     <th>  Log-Likelihood:    </th> <td>  69.325</td>\n",
       "</tr>\n",
       "<tr>\n",
       "  <th>No. Observations:</th>      <td>    44</td>      <th>  AIC:               </th> <td>  -134.6</td>\n",
       "</tr>\n",
       "<tr>\n",
       "  <th>Df Residuals:</th>          <td>    42</td>      <th>  BIC:               </th> <td>  -131.1</td>\n",
       "</tr>\n",
       "<tr>\n",
       "  <th>Df Model:</th>              <td>     1</td>      <th>                     </th>     <td> </td>   \n",
       "</tr>\n",
       "<tr>\n",
       "  <th>Covariance Type:</th>      <td>nonrobust</td>    <th>                     </th>     <td> </td>   \n",
       "</tr>\n",
       "</table>\n",
       "<table class=\"simpletable\">\n",
       "<tr>\n",
       "        <td></td>           <th>coef</th>     <th>std err</th>      <th>t</th>      <th>P>|t|</th>  <th>[0.025</th>    <th>0.975]</th>  \n",
       "</tr>\n",
       "<tr>\n",
       "  <th>factor_return</th> <td>   -0.0468</td> <td>    0.162</td> <td>   -0.289</td> <td> 0.774</td> <td>   -0.373</td> <td>    0.280</td>\n",
       "</tr>\n",
       "<tr>\n",
       "  <th>intercept</th>     <td>    0.0124</td> <td>    0.008</td> <td>    1.604</td> <td> 0.116</td> <td>   -0.003</td> <td>    0.028</td>\n",
       "</tr>\n",
       "</table>\n",
       "<table class=\"simpletable\">\n",
       "<tr>\n",
       "  <th>Omnibus:</th>       <td> 1.743</td> <th>  Durbin-Watson:     </th> <td>   2.333</td>\n",
       "</tr>\n",
       "<tr>\n",
       "  <th>Prob(Omnibus):</th> <td> 0.418</td> <th>  Jarque-Bera (JB):  </th> <td>   1.498</td>\n",
       "</tr>\n",
       "<tr>\n",
       "  <th>Skew:</th>          <td>-0.304</td> <th>  Prob(JB):          </th> <td>   0.473</td>\n",
       "</tr>\n",
       "<tr>\n",
       "  <th>Kurtosis:</th>      <td> 2.331</td> <th>  Cond. No.          </th> <td>    20.9</td>\n",
       "</tr>\n",
       "</table><br/><br/>Notes:<br/>[1] Standard Errors assume that the covariance matrix of the errors is correctly specified."
      ],
      "text/latex": [
       "\\begin{center}\n",
       "\\begin{tabular}{lclc}\n",
       "\\toprule\n",
       "\\textbf{Dep. Variable:}    &  index\\_return   & \\textbf{  R-squared:         } &     0.002   \\\\\n",
       "\\textbf{Model:}            &       OLS        & \\textbf{  Adj. R-squared:    } &    -0.022   \\\\\n",
       "\\textbf{Method:}           &  Least Squares   & \\textbf{  F-statistic:       } &   0.08366   \\\\\n",
       "\\textbf{Date:}             & Thu, 08 Aug 2024 & \\textbf{  Prob (F-statistic):} &    0.774    \\\\\n",
       "\\textbf{Time:}             &     21:47:50     & \\textbf{  Log-Likelihood:    } &    69.325   \\\\\n",
       "\\textbf{No. Observations:} &          44      & \\textbf{  AIC:               } &    -134.6   \\\\\n",
       "\\textbf{Df Residuals:}     &          42      & \\textbf{  BIC:               } &    -131.1   \\\\\n",
       "\\textbf{Df Model:}         &           1      & \\textbf{                     } &             \\\\\n",
       "\\textbf{Covariance Type:}  &    nonrobust     & \\textbf{                     } &             \\\\\n",
       "\\bottomrule\n",
       "\\end{tabular}\n",
       "\\begin{tabular}{lcccccc}\n",
       "                        & \\textbf{coef} & \\textbf{std err} & \\textbf{t} & \\textbf{P$> |$t$|$} & \\textbf{[0.025} & \\textbf{0.975]}  \\\\\n",
       "\\midrule\n",
       "\\textbf{factor\\_return} &      -0.0468  &        0.162     &    -0.289  &         0.774        &       -0.373    &        0.280     \\\\\n",
       "\\textbf{intercept}      &       0.0124  &        0.008     &     1.604  &         0.116        &       -0.003    &        0.028     \\\\\n",
       "\\bottomrule\n",
       "\\end{tabular}\n",
       "\\begin{tabular}{lclc}\n",
       "\\textbf{Omnibus:}       &  1.743 & \\textbf{  Durbin-Watson:     } &    2.333  \\\\\n",
       "\\textbf{Prob(Omnibus):} &  0.418 & \\textbf{  Jarque-Bera (JB):  } &    1.498  \\\\\n",
       "\\textbf{Skew:}          & -0.304 & \\textbf{  Prob(JB):          } &    0.473  \\\\\n",
       "\\textbf{Kurtosis:}      &  2.331 & \\textbf{  Cond. No.          } &     20.9  \\\\\n",
       "\\bottomrule\n",
       "\\end{tabular}\n",
       "%\\caption{OLS Regression Results}\n",
       "\\end{center}\n",
       "\n",
       "Notes: \\newline\n",
       " [1] Standard Errors assume that the covariance matrix of the errors is correctly specified."
      ],
      "text/plain": [
       "<class 'statsmodels.iolib.summary.Summary'>\n",
       "\"\"\"\n",
       "                            OLS Regression Results                            \n",
       "==============================================================================\n",
       "Dep. Variable:           index_return   R-squared:                       0.002\n",
       "Model:                            OLS   Adj. R-squared:                 -0.022\n",
       "Method:                 Least Squares   F-statistic:                   0.08366\n",
       "Date:                Thu, 08 Aug 2024   Prob (F-statistic):              0.774\n",
       "Time:                        21:47:50   Log-Likelihood:                 69.325\n",
       "No. Observations:                  44   AIC:                            -134.6\n",
       "Df Residuals:                      42   BIC:                            -131.1\n",
       "Df Model:                           1                                         \n",
       "Covariance Type:            nonrobust                                         \n",
       "=================================================================================\n",
       "                    coef    std err          t      P>|t|      [0.025      0.975]\n",
       "---------------------------------------------------------------------------------\n",
       "factor_return    -0.0468      0.162     -0.289      0.774      -0.373       0.280\n",
       "intercept         0.0124      0.008      1.604      0.116      -0.003       0.028\n",
       "==============================================================================\n",
       "Omnibus:                        1.743   Durbin-Watson:                   2.333\n",
       "Prob(Omnibus):                  0.418   Jarque-Bera (JB):                1.498\n",
       "Skew:                          -0.304   Prob(JB):                        0.473\n",
       "Kurtosis:                       2.331   Cond. No.                         20.9\n",
       "==============================================================================\n",
       "\n",
       "Notes:\n",
       "[1] Standard Errors assume that the covariance matrix of the errors is correctly specified.\n",
       "\"\"\""
      ]
     },
     "execution_count": 58,
     "metadata": {},
     "output_type": "execute_result"
    }
   ],
   "source": [
    "lm = sm.OLS(final1['index_return'] , final1[['factor_return','intercept']])\n",
    "lm.fit().summary()"
   ]
  },
  {
   "cell_type": "code",
   "execution_count": 59,
   "id": "222e87f1",
   "metadata": {},
   "outputs": [
    {
     "data": {
      "text/html": [
       "<div>\n",
       "<style scoped>\n",
       "    .dataframe tbody tr th:only-of-type {\n",
       "        vertical-align: middle;\n",
       "    }\n",
       "\n",
       "    .dataframe tbody tr th {\n",
       "        vertical-align: top;\n",
       "    }\n",
       "\n",
       "    .dataframe thead th {\n",
       "        text-align: right;\n",
       "    }\n",
       "</style>\n",
       "<table border=\"1\" class=\"dataframe\">\n",
       "  <thead>\n",
       "    <tr style=\"text-align: right;\">\n",
       "      <th></th>\n",
       "      <th>name</th>\n",
       "      <th>date</th>\n",
       "      <th>ret</th>\n",
       "      <th>new_date</th>\n",
       "    </tr>\n",
       "  </thead>\n",
       "  <tbody>\n",
       "    <tr>\n",
       "      <th>1126</th>\n",
       "      <td>age</td>\n",
       "      <td>2020-01-31</td>\n",
       "      <td>0.041996</td>\n",
       "      <td>2020/01</td>\n",
       "    </tr>\n",
       "    <tr>\n",
       "      <th>1127</th>\n",
       "      <td>age</td>\n",
       "      <td>2020-02-29</td>\n",
       "      <td>0.037509</td>\n",
       "      <td>2020/02</td>\n",
       "    </tr>\n",
       "    <tr>\n",
       "      <th>1128</th>\n",
       "      <td>age</td>\n",
       "      <td>2020-03-31</td>\n",
       "      <td>-0.019392</td>\n",
       "      <td>2020/03</td>\n",
       "    </tr>\n",
       "    <tr>\n",
       "      <th>1129</th>\n",
       "      <td>age</td>\n",
       "      <td>2020-04-30</td>\n",
       "      <td>0.059922</td>\n",
       "      <td>2020/04</td>\n",
       "    </tr>\n",
       "    <tr>\n",
       "      <th>1130</th>\n",
       "      <td>age</td>\n",
       "      <td>2020-05-31</td>\n",
       "      <td>0.079325</td>\n",
       "      <td>2020/05</td>\n",
       "    </tr>\n",
       "  </tbody>\n",
       "</table>\n",
       "</div>"
      ],
      "text/plain": [
       "     name        date       ret new_date\n",
       "1126  age  2020-01-31  0.041996  2020/01\n",
       "1127  age  2020-02-29  0.037509  2020/02\n",
       "1128  age  2020-03-31 -0.019392  2020/03\n",
       "1129  age  2020-04-30  0.059922  2020/04\n",
       "1130  age  2020-05-31  0.079325  2020/05"
      ]
     },
     "execution_count": 59,
     "metadata": {},
     "output_type": "execute_result"
    }
   ],
   "source": [
    "df_factor3.head()"
   ]
  },
  {
   "cell_type": "code",
   "execution_count": 60,
   "id": "e03cbad7",
   "metadata": {},
   "outputs": [
    {
     "name": "stdout",
     "output_type": "stream",
     "text": [
      "['market_equity', 'prc', 'rmax1_21d', 'ret_1_0', 'zero_trades_21d', 'iskew_capm_21d', 'ivol_capm_21d', 'rvol_21d', 'rskew_21d', 'bidaskhl_21d', 'rmax5_21d', 'beta_dimson_21d', 'coskew_21d', 'age', 'ret_3_1', 'turnover_126d', 'turnover_var_126d', 'zero_trades_126d', 'ami_126d', 'dolvol_var_126d', 'dolvol_126d', 'rmax5_rvol_21d', 'prc_highprc_252d', 'ivol_capm_252d', 'zero_trades_252d', 'betadown_252d', 'ret_6_1', 'ret_9_1', 'div12m_me', 'mispricing_perf', 'ret_12_7', 'ret_12_1', 'seas_1_1an', 'eqnpo_12m', 'seas_1_1na', 'chcsho_12m', 'qmj_safety', 'betabab_1260d', 'corr_1260d', 'beta_60m', 'seas_2_5an', 'ret_60_12', 'seas_2_5na', 'seas_6_10na', 'seas_6_10an', 'seas_11_15an', 'seas_11_15na', 'seas_16_20na', 'seas_16_20an', 'bev_mev']\n"
     ]
    }
   ],
   "source": [
    "print(list_factor)"
   ]
  },
  {
   "cell_type": "code",
   "execution_count": 61,
   "id": "9de54b58",
   "metadata": {},
   "outputs": [
    {
     "data": {
      "text/plain": [
       "{'market_equity': -0.0445863104018219,\n",
       " 'prc': 0.036929223344540144,\n",
       " 'rmax1_21d': -0.4510237529170159,\n",
       " 'ret_1_0': 0.29912855500623453,\n",
       " 'zero_trades_21d': -0.4562461202859602,\n",
       " 'iskew_capm_21d': -0.07383996864137232,\n",
       " 'ivol_capm_21d': -0.4305939609481768,\n",
       " 'rvol_21d': -0.4693619909073012,\n",
       " 'rskew_21d': -0.11141947292819648,\n",
       " 'bidaskhl_21d': 0.4273098876842884,\n",
       " 'rmax5_21d': -0.4686749357132884,\n",
       " 'beta_dimson_21d': -0.6779091920990397,\n",
       " 'coskew_21d': -0.114220875157142,\n",
       " 'age': 0.08711773821354704,\n",
       " 'ret_3_1': -0.3738127667454775,\n",
       " 'turnover_126d': -0.45099821538816987,\n",
       " 'turnover_var_126d': 0.11914520464530914,\n",
       " 'zero_trades_126d': -0.45477799294705396,\n",
       " 'ami_126d': -0.08784821185553424,\n",
       " 'dolvol_var_126d': 0.06907865479735208,\n",
       " 'dolvol_126d': -0.23204242197173672,\n",
       " 'rmax5_rvol_21d': -0.10431723956258464,\n",
       " 'prc_highprc_252d': -0.4603116837909169,\n",
       " 'ivol_capm_252d': -0.39639228411749344,\n",
       " 'zero_trades_252d': -0.4586325039539858,\n",
       " 'betadown_252d': -0.673699177953205,\n",
       " 'ret_6_1': -0.3965939167802428,\n",
       " 'ret_9_1': -0.3969302592552018,\n",
       " 'div12m_me': -0.18162004313633107,\n",
       " 'mispricing_perf': -0.2555298845101322,\n",
       " 'ret_12_7': -0.2916866233135192,\n",
       " 'ret_12_1': -0.41826062667307545,\n",
       " 'seas_1_1an': -0.23395612685503764,\n",
       " 'eqnpo_12m': -0.2431096109550296,\n",
       " 'seas_1_1na': -0.34420154366206807,\n",
       " 'chcsho_12m': -0.21919564437003372,\n",
       " 'qmj_safety': -0.429022668136023,\n",
       " 'betabab_1260d': -0.6148244579040095,\n",
       " 'corr_1260d': -0.15078528563089202,\n",
       " 'beta_60m': -0.5459309928851859,\n",
       " 'seas_2_5an': 0.3428907296184522,\n",
       " 'ret_60_12': -0.08625342445135563,\n",
       " 'seas_2_5na': -0.30182222529353403,\n",
       " 'seas_6_10na': -0.018485474226779,\n",
       " 'seas_6_10an': -0.14633530972481257,\n",
       " 'seas_11_15an': -0.05335296758648497,\n",
       " 'seas_11_15na': -0.5235507480785415,\n",
       " 'seas_16_20na': -0.1478657845817354,\n",
       " 'seas_16_20an': -0.1496998070405394,\n",
       " 'bev_mev': 0.01761035713445394}"
      ]
     },
     "execution_count": 61,
     "metadata": {},
     "output_type": "execute_result"
    }
   ],
   "source": [
    "total_return = {}\n",
    "\n",
    "for i in list_factor:\n",
    "    df1 = df_factor3[df_factor3['name']==i]\n",
    "    df2 = pd.merge(df_index,df1,left_on='value_date',right_on='new_date',how='inner')\n",
    "    total_return[i] = np.corrcoef(df2['ret'] ,df2['Value'])[0,1]\n",
    "    \n",
    "total_return    "
   ]
  },
  {
   "cell_type": "code",
   "execution_count": 62,
   "id": "cb2599e5",
   "metadata": {},
   "outputs": [
    {
     "data": {
      "text/plain": [
       "0.4273098876842884"
      ]
     },
     "execution_count": 62,
     "metadata": {},
     "output_type": "execute_result"
    }
   ],
   "source": [
    "max(total_return.values())"
   ]
  },
  {
   "cell_type": "code",
   "execution_count": 63,
   "id": "221df71d",
   "metadata": {},
   "outputs": [
    {
     "data": {
      "text/plain": [
       "0.6779091920990397"
      ]
     },
     "execution_count": 63,
     "metadata": {},
     "output_type": "execute_result"
    }
   ],
   "source": [
    "max_value = max([abs(i) for i in total_return.values()])\n",
    "max_value"
   ]
  },
  {
   "cell_type": "code",
   "execution_count": 65,
   "id": "a11a2b3f",
   "metadata": {},
   "outputs": [
    {
     "data": {
      "text/plain": [
       "[('beta_dimson_21d', -0.6779091920990397)]"
      ]
     },
     "execution_count": 65,
     "metadata": {},
     "output_type": "execute_result"
    }
   ],
   "source": [
    "[(i,j) for (i,j) in total_return.items() if j==max_value or j==max_value*-1]"
   ]
  },
  {
   "cell_type": "code",
   "execution_count": 66,
   "id": "0c7dc69a",
   "metadata": {},
   "outputs": [
    {
     "data": {
      "text/plain": [
       "{'beta_dimson_21d': -0.6779091920990397,\n",
       " 'betadown_252d': -0.673699177953205,\n",
       " 'betabab_1260d': -0.6148244579040095,\n",
       " 'beta_60m': -0.5459309928851859,\n",
       " 'seas_11_15na': -0.5235507480785415,\n",
       " 'rvol_21d': -0.4693619909073012,\n",
       " 'rmax5_21d': -0.4686749357132884,\n",
       " 'prc_highprc_252d': -0.4603116837909169,\n",
       " 'zero_trades_252d': -0.4586325039539858,\n",
       " 'zero_trades_21d': -0.4562461202859602,\n",
       " 'zero_trades_126d': -0.45477799294705396,\n",
       " 'rmax1_21d': -0.4510237529170159,\n",
       " 'turnover_126d': -0.45099821538816987,\n",
       " 'ivol_capm_21d': -0.4305939609481768,\n",
       " 'qmj_safety': -0.429022668136023,\n",
       " 'bidaskhl_21d': 0.4273098876842884,\n",
       " 'ret_12_1': -0.41826062667307545,\n",
       " 'ret_9_1': -0.3969302592552018,\n",
       " 'ret_6_1': -0.3965939167802428,\n",
       " 'ivol_capm_252d': -0.39639228411749344,\n",
       " 'ret_3_1': -0.3738127667454775,\n",
       " 'seas_1_1na': -0.34420154366206807,\n",
       " 'seas_2_5an': 0.3428907296184522,\n",
       " 'seas_2_5na': -0.30182222529353403,\n",
       " 'ret_1_0': 0.29912855500623453,\n",
       " 'ret_12_7': -0.2916866233135192,\n",
       " 'mispricing_perf': -0.2555298845101322,\n",
       " 'eqnpo_12m': -0.2431096109550296,\n",
       " 'seas_1_1an': -0.23395612685503764,\n",
       " 'dolvol_126d': -0.23204242197173672,\n",
       " 'chcsho_12m': -0.21919564437003372,\n",
       " 'div12m_me': -0.18162004313633107,\n",
       " 'corr_1260d': -0.15078528563089202,\n",
       " 'seas_16_20an': -0.1496998070405394,\n",
       " 'seas_16_20na': -0.1478657845817354,\n",
       " 'seas_6_10an': -0.14633530972481257,\n",
       " 'turnover_var_126d': 0.11914520464530914,\n",
       " 'coskew_21d': -0.114220875157142,\n",
       " 'rskew_21d': -0.11141947292819648,\n",
       " 'rmax5_rvol_21d': -0.10431723956258464,\n",
       " 'ami_126d': -0.08784821185553424,\n",
       " 'age': 0.08711773821354704,\n",
       " 'ret_60_12': -0.08625342445135563,\n",
       " 'iskew_capm_21d': -0.07383996864137232,\n",
       " 'dolvol_var_126d': 0.06907865479735208,\n",
       " 'seas_11_15an': -0.05335296758648497,\n",
       " 'market_equity': -0.0445863104018219,\n",
       " 'prc': 0.036929223344540144,\n",
       " 'seas_6_10na': -0.018485474226779,\n",
       " 'bev_mev': 0.01761035713445394}"
      ]
     },
     "execution_count": 66,
     "metadata": {},
     "output_type": "execute_result"
    }
   ],
   "source": [
    "sorted_data = {i:j for i,j in sorted(total_return.items(), key=lambda x: abs(x[1]), reverse=True)}\n",
    "sorted_data"
   ]
  }
 ],
 "metadata": {
  "hide_input": false,
  "kernelspec": {
   "display_name": "Python 3 (ipykernel)",
   "language": "python",
   "name": "python3"
  },
  "language_info": {
   "codemirror_mode": {
    "name": "ipython",
    "version": 3
   },
   "file_extension": ".py",
   "mimetype": "text/x-python",
   "name": "python",
   "nbconvert_exporter": "python",
   "pygments_lexer": "ipython3",
   "version": "3.11.7"
  },
  "varInspector": {
   "cols": {
    "lenName": 16,
    "lenType": 16,
    "lenVar": 40
   },
   "kernels_config": {
    "python": {
     "delete_cmd_postfix": "",
     "delete_cmd_prefix": "del ",
     "library": "var_list.py",
     "varRefreshCmd": "print(var_dic_list())"
    },
    "r": {
     "delete_cmd_postfix": ") ",
     "delete_cmd_prefix": "rm(",
     "library": "var_list.r",
     "varRefreshCmd": "cat(var_dic_list()) "
    }
   },
   "types_to_exclude": [
    "module",
    "function",
    "builtin_function_or_method",
    "instance",
    "_Feature"
   ],
   "window_display": false
  }
 },
 "nbformat": 4,
 "nbformat_minor": 5
}
